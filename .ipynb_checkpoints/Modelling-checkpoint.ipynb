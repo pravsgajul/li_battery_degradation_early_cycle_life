{
 "cells": [
  {
   "cell_type": "code",
   "execution_count": 324,
   "id": "16ba10e8",
   "metadata": {},
   "outputs": [],
   "source": [
    "import numpy as np\n",
    "import matplotlib.pyplot as plt\n",
    "import pickle"
   ]
  },
  {
   "cell_type": "code",
   "execution_count": 325,
   "id": "45fe730a",
   "metadata": {},
   "outputs": [],
   "source": [
    "batch1 = pickle.load(open('C:/Users/Pravallika Gajul/Battery/batch1.pkl', 'rb'))\n",
    "#remove batteries that do not reach 80% capacity\n",
    "del batch1['b1c8']\n",
    "del batch1['b1c10']\n",
    "del batch1['b1c12']\n",
    "del batch1['b1c13'] \n",
    "del batch1['b1c22']"
   ]
  },
  {
   "cell_type": "code",
   "execution_count": 326,
   "id": "a923eb1b",
   "metadata": {},
   "outputs": [
    {
     "data": {
      "text/plain": [
       "41"
      ]
     },
     "execution_count": 326,
     "metadata": {},
     "output_type": "execute_result"
    }
   ],
   "source": [
    "numBat1 = len(batch1.keys())\n",
    "numBat1"
   ]
  },
  {
   "cell_type": "code",
   "execution_count": 327,
   "id": "6c52aaa7",
   "metadata": {},
   "outputs": [],
   "source": [
    "batch2 = pickle.load(open('C:/Users/Pravallika Gajul/Battery/batch2.pkl','rb'))"
   ]
  },
  {
   "cell_type": "code",
   "execution_count": 328,
   "id": "2504d5f2",
   "metadata": {},
   "outputs": [],
   "source": [
    "batch2_keys = ['b2c7','b2c8','b2c9','b2c15','b2c16']\n",
    "batch1_keys = ['b1c0','b1c1','b1c2','b1c3','b1c4']\n",
    "add_len = [662,981,1060,208,482];"
   ]
  },
  {
   "cell_type": "code",
   "execution_count": 329,
   "id": "8dfcffb4",
   "metadata": {},
   "outputs": [],
   "source": [
    "for i,bk in enumerate(batch1_keys):\n",
    "    batch1[bk]['cycle_life']=batch1[bk]['cycle_life'] + add_len[i]\n",
    "    for j in batch1[bk]['summary'].keys():\n",
    "        if j=='cycle':\n",
    "            batch1[bk]['summary'][j]=np.hstack((batch1[bk]['summary'][j],batch2[batch2_keys[i]]['summary'][j]+len(batch1[bk]['summary'][j])))\n",
    "        else:\n",
    "            batch1[bk]['summary'][j]=np.hstack((batch1[bk]['summary'][j],batch2[batch2_keys[i]]['summary'][j]))\n",
    "    last_cycle=len(batch1[bk]['cycles'].keys())\n",
    "    for j,jk in enumerate(batch2[batch2_keys[i]]['cycles'].keys()):\n",
    "        batch1[bk]['cycles'][str(last_cycle+j)]= batch2[batch2_keys[i]]['cycles'][jk]"
   ]
  },
  {
   "cell_type": "code",
   "execution_count": 330,
   "id": "08076f2c",
   "metadata": {},
   "outputs": [],
   "source": [
    "del batch2['b2c7']\n",
    "del batch2['b2c8']\n",
    "del batch2['b2c9']\n",
    "del batch2['b2c15']\n",
    "del batch2['b2c16']"
   ]
  },
  {
   "cell_type": "code",
   "execution_count": 331,
   "id": "de231fa6",
   "metadata": {},
   "outputs": [
    {
     "data": {
      "text/plain": [
       "43"
      ]
     },
     "execution_count": 331,
     "metadata": {},
     "output_type": "execute_result"
    }
   ],
   "source": [
    "numBat2=len(batch2.keys())\n",
    "numBat2"
   ]
  },
  {
   "cell_type": "code",
   "execution_count": null,
   "id": "584f8c04",
   "metadata": {},
   "outputs": [],
   "source": [
    "batch3 = pickle.load(open('C:/Users/Pravallika Gajul/Battery/batch3.pkl','rb'))"
   ]
  },
  {
   "cell_type": "code",
   "execution_count": null,
   "id": "eeefd0ab",
   "metadata": {},
   "outputs": [],
   "source": [
    "batch3.keys()"
   ]
  },
  {
   "cell_type": "code",
   "execution_count": null,
   "id": "d50ac2c3",
   "metadata": {},
   "outputs": [],
   "source": [
    "del batch3['b3c37']\n",
    "del batch3['b3c2']\n",
    "del batch3['b3c23']\n",
    "del batch3['b3c32']\n",
    "del batch3['b3c42']\n",
    "del batch3['b3c43']"
   ]
  },
  {
   "cell_type": "code",
   "execution_count": null,
   "id": "240c1b28",
   "metadata": {},
   "outputs": [],
   "source": [
    "numBat3=len(batch3.keys())\n",
    "numBat3"
   ]
  },
  {
   "cell_type": "code",
   "execution_count": null,
   "id": "0372fd20",
   "metadata": {},
   "outputs": [],
   "source": [
    "numBat=numBat1+numBat2+numBat3\n",
    "numBat"
   ]
  },
  {
   "cell_type": "code",
   "execution_count": null,
   "id": "42d254c7",
   "metadata": {},
   "outputs": [],
   "source": [
    "bat_dict={**batch1,**batch2,**batch3}"
   ]
  },
  {
   "cell_type": "code",
   "execution_count": null,
   "id": "36be621a",
   "metadata": {
    "scrolled": false
   },
   "outputs": [],
   "source": [
    "for i in bat_dict.keys():\n",
    "    plt.plot(bat_dict[i]['summary']['cycle'], bat_dict[i]['summary']['QD'])\n",
    "plt.xlabel('Cycle Number')\n",
    "plt.ylabel('Discharge Capacity (Ah)')\n",
    "a, b = 0.8, 1.15\n",
    "plt.ylim((a, b)) #Where a, b represent the bottom and top limits for your plot\n",
    "\n",
    "#Another notation\n",
    "plt.ylim(bottom=a)\n",
    "plt.ylim(top=b)"
   ]
  },
  {
   "cell_type": "code",
   "execution_count": null,
   "id": "7fe91578",
   "metadata": {
    "scrolled": false
   },
   "outputs": [],
   "source": [
    "v_space = np.linspace(3.5,2,1000)\n",
    "plt.figure(figsize=(3,5))\n",
    "for cell in batch1.values():\n",
    "    c10 = cell['cycles']['10']\n",
    "    c100 = cell['cycles']['100']\n",
    "    dQ_100_10 = c100['Qdlin'] - c10['Qdlin']\n",
    "    plt.plot(dQ_100_10, v_space)\n",
    "plt.grid()\n",
    "plt.show()"
   ]
  },
  {
   "cell_type": "code",
   "execution_count": null,
   "id": "eb8c10fe",
   "metadata": {},
   "outputs": [],
   "source": [
    "Vdlin=np.linspace(3.5,2,1000)\n",
    "for i in bat_dict.keys():\n",
    "    plt.plot((bat_dict[i]['cycles']['99']['Qdlin']- bat_dict[i]['cycles']['9']['Qdlin']), Vdlin)\n",
    "\n",
    "plt.ylabel('Voltage (V)')\n",
    "plt.xlabel('Q_{100} - Q_{10} (Ah)')\n",
    "a, b = 2,3.5\n",
    "plt.ylim((a, b)) #Where a, b represent the bottom and top limits for your plot\n",
    "#Another notation\n",
    "plt.ylim(bottom=a)\n",
    "plt.ylim(top=b)\n",
    "plt.show()\n"
   ]
  },
  {
   "cell_type": "code",
   "execution_count": null,
   "id": "80c74a6d",
   "metadata": {
    "scrolled": false
   },
   "outputs": [],
   "source": [
    "trainDataSize = len(bat_dict)\n",
    "cycleLife = {}\n",
    "DeltaQ_var = {}\n",
    "\n",
    "for i in bat_dict.keys():\n",
    "    cycleLength = len(bat_dict[i]['cycles'])\n",
    "    deltaQ = bat_dict[i]['cycles']['99']['Qdlin'] - bat_dict[i]['cycles']['9']['Qdlin']\n",
    "    deltaQ_var = np.var(deltaQ)\n",
    "    cycleLife[i] = int(cycleLength) + 1\n",
    "    DeltaQ_var[i] = deltaQ_var\n",
    "\n",
    "plt.figure()\n",
    "for i in bat_dict.keys():\n",
    "    plt.loglog(DeltaQ_var[i], cycleLife[i], marker=\"o\")\n",
    "plt.ylabel('Cycle life')\n",
    "plt.xlabel('Var(Q$_{100}$ - Q$_{10}$) (Ah²)')\n",
    "plt.show()"
   ]
  },
  {
   "cell_type": "code",
   "execution_count": null,
   "id": "af3da459",
   "metadata": {},
   "outputs": [],
   "source": [
    "test_ind = np.hstack((np.arange(0,(numBat1+numBat2),2),83))\n",
    "train_ind = np.arange(1,(numBat1+numBat2-1),2)\n",
    "secondary_test_ind = np.arange(numBat-numBat3,numBat);"
   ]
  },
  {
   "cell_type": "code",
   "execution_count": null,
   "id": "692e8019",
   "metadata": {},
   "outputs": [],
   "source": [
    "trainData={**batch1}"
   ]
  },
  {
   "cell_type": "code",
   "execution_count": null,
   "id": "7b6839ce",
   "metadata": {},
   "outputs": [],
   "source": [
    "testData={**batch2}"
   ]
  },
  {
   "cell_type": "code",
   "execution_count": null,
   "id": "521c5e91",
   "metadata": {},
   "outputs": [],
   "source": [
    "valData={**batch3}"
   ]
  },
  {
   "cell_type": "code",
   "execution_count": null,
   "id": "2df2284f",
   "metadata": {},
   "outputs": [],
   "source": [
    "def helperGetFeatures(batch):\n",
    "    N = len(batch)  # Number of batteries\n",
    "    \n",
    "    # Preallocation of variables\n",
    "    y = {}\n",
    "    DeltaQ_var = {}\n",
    "    DeltaQ_min = {}\n",
    "    CapFadeCycle2Slope = {}\n",
    "    CapFadeCycle2Intercept = {}\n",
    "    Qd2 = {}\n",
    "    AvgChargeTime = {}\n",
    "    IntegralTemp = {}\n",
    "    MinIR = {}\n",
    "    IRDiff2And100 = {}\n",
    "    \n",
    "    for i in batch.keys():\n",
    "        # cycle life\n",
    "        y[i] = len(batch[i]['cycles']) + 1\n",
    "        \n",
    "        # Identify cycles with time gaps\n",
    "        timeGapCycleIdx = []\n",
    "        for jCycle in batch[i]['cycles'].keys():\n",
    "            dt = np.diff(batch[i]['cycles'][jCycle]['t'])\n",
    "            if np.max(dt) > 5 * np.mean(dt):\n",
    "                timeGapCycleIdx.append(jCycle)\n",
    "        \n",
    "        \n",
    "        \n",
    "        # Remove cycles with time gaps\n",
    "        #for idx in sorted(timeGapCycleIdx, reverse=True):\n",
    "            #del batch[i]['cycles'][idx]\n",
    "            #del batch[i]['summary']['QD'][idx]\n",
    "            #del batch[i]['summary']['IR'][idx]\n",
    "            #del batch[i]['summary']['chargetime'][idx]\n",
    "        \n",
    "        # compute Q_100_10 stats\n",
    "        DeltaQ = batch[i]['cycles']['99']['Qdlin'] - batch[i]['cycles']['9']['Qdlin']\n",
    "        #DeltaQ_var[i] = np.log10(np.abs(np.var(bat_dict[i]['cycles']['99']['Qdlin']-bat_dict[i]['cycles']['9']['Qdlin'])))\n",
    "        DeltaQ_var[i] = np.log10(np.abs(np.var(DeltaQ)))\n",
    "        DeltaQ_min[i] = np.log10(np.abs(np.min(DeltaQ)))\n",
    "        \n",
    "        # Slope and intercept of linear fit for capacity fade curve from cycle 2 to cycle 100\n",
    "        coeff2 = np.polyfit(batch[i]['summary']['cycle'][1:99], batch[i]['summary']['QD'][1:99], 1)\n",
    "        CapFadeCycle2Slope[i] = coeff2[0]\n",
    "        CapFadeCycle2Intercept[i] = coeff2[1]\n",
    "        \n",
    "        # Discharge capacity at cycle 2\n",
    "        Qd2[i] = batch[i]['summary']['QD'][1]\n",
    "        \n",
    "        # Avg charge time, first 5 cycles (2 to 6)\n",
    "        AvgChargeTime[i] = np.mean(batch[i]['summary']['chargetime'][1:5])\n",
    "        \n",
    "        # Integral of temperature from cycles 2 to 100\n",
    "        tempIntT = 0\n",
    "        for jCycle in batch[i]['cycles'].keys():\n",
    "            tempIntT += np.trapz(batch[i]['cycles'][jCycle]['t'], batch[i]['cycles'][jCycle]['T'])\n",
    "        IntegralTemp[i] = tempIntT\n",
    "        \n",
    "        # Minimum internal resistance, cycles 2 to 100\n",
    "        temp = np.array(batch[i]['summary']['IR'][1:99])\n",
    "        MinIR[i] = np.min(temp[temp != 0])\n",
    "        IRDiff2And100[i] = batch[i]['summary']['IR'][99] - batch[i]['summary']['IR'][1]\n",
    "    \n",
    "    xTable = pd.DataFrame({\n",
    "        'DeltaQ_var': DeltaQ_var,\n",
    "        'DeltaQ_min': DeltaQ_min,\n",
    "        'CapFadeCycle2Slope': CapFadeCycle2Slope,\n",
    "        'CapFadeCycle2Intercept': CapFadeCycle2Intercept,\n",
    "        'Qd2': Qd2,\n",
    "        'AvgChargeTime': AvgChargeTime,\n",
    "        'MinIR': MinIR,\n",
    "        'IRDiff2And100': IRDiff2And100\n",
    "    })\n",
    "    \n",
    "    return xTable, y\n"
   ]
  },
  {
   "cell_type": "code",
   "execution_count": null,
   "id": "58d170f6",
   "metadata": {
    "scrolled": false
   },
   "outputs": [],
   "source": [
    "# Call helperGetFeatures function\n",
    "XTrain, yTrain = helperGetFeatures(trainData)"
   ]
  },
  {
   "cell_type": "code",
   "execution_count": null,
   "id": "66154305",
   "metadata": {},
   "outputs": [],
   "source": [
    "# Call helperGetFeatures function\n",
    "XVal, yVal = helperGetFeatures(valData)"
   ]
  },
  {
   "cell_type": "code",
   "execution_count": null,
   "id": "65292f3a",
   "metadata": {
    "scrolled": false
   },
   "outputs": [],
   "source": [
    "\n",
    "# Display the head of XTrain\n",
    "XTrain.info()"
   ]
  },
  {
   "cell_type": "code",
   "execution_count": null,
   "id": "ab6fa75d",
   "metadata": {},
   "outputs": [],
   "source": [
    "XVal.info()"
   ]
  },
  {
   "cell_type": "code",
   "execution_count": null,
   "id": "40335bee",
   "metadata": {},
   "outputs": [],
   "source": [
    "type(XTrain['DeltaQ_var'].values)"
   ]
  },
  {
   "cell_type": "code",
   "execution_count": null,
   "id": "86438b08",
   "metadata": {},
   "outputs": [],
   "source": [
    "import numpy as np\n",
    "from sklearn.linear_model import LassoCV\n",
    "from sklearn.metrics import mean_squared_error\n",
    "from sklearn.model_selection import KFold\n",
    "\n",
    "alphaVec = np.arange(0.01, 1.01, 0.1)\n",
    "lambdaVec = np.arange(0, 1.01, 0.01)\n",
    "MCReps = 1\n",
    "cvFold = 4\n",
    "\n",
    "rmseList = np.zeros(len(alphaVec))\n",
    "minLambdaMSE = np.zeros(len(alphaVec))\n",
    "wModelList = []\n",
    "betaVec = []\n",
    "\n",
    "# Convert dictionary of feature arrays to a DataFrame\n",
    "X_train_df = pd.DataFrame(XTrain)\n",
    "\n",
    "# Convert dictionary of target values to an array\n",
    "y_train_array = np.array(list(yTrain.values()))\n",
    "for i, alpha in enumerate(alphaVec):\n",
    "    lasso = LassoCV(alphas=lambdaVec, cv=KFold(n_splits=cvFold), random_state=42, normalize=True)\n",
    "    lasso.fit(X_train_df, y_train_array)\n",
    "    \n",
    "    if len(lasso.alphas_) > 0:\n",
    "        indexMinMSE = np.argmin(lasso.mse_path_.mean(axis=1))\n",
    "        minLambdaMSE[i] = lasso.alphas_[indexMinMSE]\n",
    "        rmseList[i] = np.sqrt(lasso.mse_path_.mean(axis=1)[indexMinMSE])\n",
    "    else:\n",
    "        # Handle the case when lasso.alphas_ is empty\n",
    "        minLambdaMSE[i] = np.nan\n",
    "        rmseList[i] = np.nan\n",
    "\n",
    "    wModelList.append(lasso.coef_)\n",
    "    \n",
    "    # Populate betaVec with intercept values\n",
    "    betaVec.append(lasso.intercept_)"
   ]
  },
  {
   "cell_type": "code",
   "execution_count": null,
   "id": "d110d2af",
   "metadata": {},
   "outputs": [],
   "source": [
    "import numpy as np\n",
    "\n",
    "num_val = 4\n",
    "idx = np.argsort(rmseList)\n",
    "val = rmseList[idx][:num_val]\n",
    "index = idx[:num_val]\n",
    "\n",
    "alpha = [alphaVec[i] for i in index]\n",
    "lambda_val = [minLambdaMSE[i] for i in index]\n",
    "w_model = [wModelList[i] for i in index]\n",
    "beta = [betaVec[i] for i in index]\n"
   ]
  },
  {
   "cell_type": "code",
   "execution_count": null,
   "id": "1a789389",
   "metadata": {
    "scrolled": true
   },
   "outputs": [],
   "source": [
    "X_val_df = pd.DataFrame(XVal)\n",
    "y_val_array = np.array(list(yVal.values()))\n",
    "\n",
    "numVal = len(w_model)  # Assuming wModel and beta have been defined earlier\n",
    "rmse_val_model = np.zeros(numVal)\n",
    "for valList in range(numVal):\n",
    "    y_pred_val = X_val_df @ w_model[valList] + beta[valList]\n",
    "    rmse_val_model[valList] = np.sqrt(mean_squared_error(y_val_array, y_pred_val))"
   ]
  },
  {
   "cell_type": "code",
   "execution_count": null,
   "id": "3e6e5c21",
   "metadata": {
    "scrolled": true
   },
   "outputs": [],
   "source": [
    "rmse_min_val = np.min(rmse_val_model)\n",
    "idx = np.argmin(rmse_val_model)\n",
    "w_model_final = w_model[idx]\n",
    "beta_final = beta[idx]"
   ]
  },
  {
   "cell_type": "markdown",
   "id": "0fc3ee5a",
   "metadata": {},
   "source": [
    "PERFORMANCE"
   ]
  },
  {
   "cell_type": "code",
   "execution_count": null,
   "id": "c1d2356c",
   "metadata": {},
   "outputs": [],
   "source": [
    "XTest,yTest = helperGetFeatures(testData)"
   ]
  },
  {
   "cell_type": "code",
   "execution_count": null,
   "id": "72acc5bf",
   "metadata": {},
   "outputs": [],
   "source": [
    "XTest.info()"
   ]
  },
  {
   "cell_type": "code",
   "execution_count": null,
   "id": "18c82575",
   "metadata": {},
   "outputs": [],
   "source": [
    "y_pred_test = XTest.values.dot(w_model_final) + beta_final"
   ]
  },
  {
   "cell_type": "code",
   "execution_count": null,
   "id": "72837b44",
   "metadata": {},
   "outputs": [],
   "source": [
    "y_test = np.array(list(yTest.values()))"
   ]
  },
  {
   "cell_type": "code",
   "execution_count": null,
   "id": "3ddbe819",
   "metadata": {
    "scrolled": true
   },
   "outputs": [],
   "source": [
    "plt.figure()\n",
    "plt.scatter(y_test, y_pred_test)\n",
    "\n",
    "# Plot the reference line y = x\n",
    "plt.plot([y_test.min(), y_test.max()], [y_test.min(), y_test.max()], 'k--')\n",
    "\n",
    "# Add labels and title\n",
    "plt.title('Predicted vs Actual Cycle Life')\n",
    "plt.xlabel('Actual cycle life')\n",
    "plt.ylabel('Predicted cycle life')\n",
    "\n",
    "# Display the plot\n",
    "plt.show()"
   ]
  },
  {
   "cell_type": "code",
   "execution_count": null,
   "id": "671a027f",
   "metadata": {},
   "outputs": [],
   "source": [
    "errTest = y_pred_test - y_test\n",
    "rmseTestModel = np.sqrt(np.mean(errTest**2))\n",
    "\n",
    "print(\"RMSE on test data:\", rmseTestModel)"
   ]
  },
  {
   "cell_type": "code",
   "execution_count": null,
   "id": "647dc204",
   "metadata": {
    "scrolled": true
   },
   "outputs": [],
   "source": [
    "n = len(y_test)\n",
    "nr = np.abs(y_test - y_pred_test)\n",
    "errVal = (1/n) * np.sum(nr / y_test) * 100\n",
    "\n",
    "print(\"Error percentage:\", errVal)"
   ]
  },
  {
   "cell_type": "code",
   "execution_count": null,
   "id": "9c3d5885",
   "metadata": {},
   "outputs": [],
   "source": []
  }
 ],
 "metadata": {
  "kernelspec": {
   "display_name": "Python 3",
   "language": "python",
   "name": "python3"
  },
  "language_info": {
   "codemirror_mode": {
    "name": "ipython",
    "version": 3
   },
   "file_extension": ".py",
   "mimetype": "text/x-python",
   "name": "python",
   "nbconvert_exporter": "python",
   "pygments_lexer": "ipython3",
   "version": "3.8.8"
  }
 },
 "nbformat": 4,
 "nbformat_minor": 5
}
